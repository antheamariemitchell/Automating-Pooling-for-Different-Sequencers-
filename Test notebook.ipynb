{
 "cells": [
  {
   "cell_type": "code",
   "execution_count": 25,
   "metadata": {},
   "outputs": [],
   "source": [
    "Dictionary = {0: {'name': 'ds', 'number_of_samples': '3', 'reads_per_sample': '3', 'concentration_library': '3', '%_lib_between_200_1000': '3', 'average_bp_length': '3'}, 1:{'name': 'ds', 'number_of_samples': '3', 'reads_per_sample': '3', 'concentration_library': '3', '%_lib_between_200_1000': '3', 'average_bp_length': '3'}}"
   ]
  },
  {
   "cell_type": "code",
   "execution_count": 26,
   "metadata": {},
   "outputs": [
    {
     "name": "stdout",
     "output_type": "stream",
     "text": [
      "{0: {'name': 'ds', 'number_of_samples': '3', 'reads_per_sample': '3', 'concentration_library': '3', '%_lib_between_200_1000': '3', 'average_bp_length': '3'}, 1: {'name': 'ds', 'number_of_samples': '3', 'reads_per_sample': '3', 'concentration_library': '3', '%_lib_between_200_1000': '3', 'average_bp_length': '3'}}\n"
     ]
    }
   ],
   "source": [
    "print(Dictionary)\n"
   ]
  },
  {
   "cell_type": "code",
   "execution_count": 27,
   "metadata": {},
   "outputs": [],
   "source": [
    "Dictionary[0]['dirt'] = '10'"
   ]
  },
  {
   "cell_type": "code",
   "execution_count": 28,
   "metadata": {},
   "outputs": [
    {
     "name": "stdout",
     "output_type": "stream",
     "text": [
      "{0: {'name': 'ds', 'number_of_samples': '3', 'reads_per_sample': '3', 'concentration_library': '3', '%_lib_between_200_1000': '3', 'average_bp_length': '3', 'dirt': '10'}, 1: {'name': 'ds', 'number_of_samples': '3', 'reads_per_sample': '3', 'concentration_library': '3', '%_lib_between_200_1000': '3', 'average_bp_length': '3'}}\n"
     ]
    }
   ],
   "source": [
    "print(Dictionary)\n"
   ]
  }
 ],
 "metadata": {
  "kernelspec": {
   "display_name": "Python 3",
   "language": "python",
   "name": "python3"
  },
  "language_info": {
   "codemirror_mode": {
    "name": "ipython",
    "version": 3
   },
   "file_extension": ".py",
   "mimetype": "text/x-python",
   "name": "python",
   "nbconvert_exporter": "python",
   "pygments_lexer": "ipython3",
   "version": "3.8.5"
  }
 },
 "nbformat": 4,
 "nbformat_minor": 4
}
