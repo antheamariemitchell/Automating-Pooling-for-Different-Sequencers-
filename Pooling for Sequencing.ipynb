{
 "cells": [
  {
   "cell_type": "markdown",
   "metadata": {},
   "source": [
    "## Pooling for Sequencing\n",
    "\n",
    "### Converting a confusing spreadsheet to an automated pooling protocol\n",
    "\n",
    "### Goals:\n",
    "\n",
    "*  Create a script that will calculate how to evenly or unevenly pool samples for different sequencers\n",
    "\n",
    "* Provide drop down of sequencer user will use (as they all have different total read capacities and loading requirements)\n",
    "\n",
    "* Give total concentration of that final library\n",
    "\n",
    "* Asks if user wants phix and what percentage, then calculate how many reads go to phix, and how many leftover for samples\n",
    "\n",
    "* Asks ask how many libraries going on\n",
    "\n",
    "* Asks for number of samples per library, number of reads per sample, ng/ul, % of library between 200-1000 base pair length, base pair length average\n",
    "\n",
    "* From input, will calculate MW, nmol/ul, nM, total number of reads needed, and proportion of the lib/total\n",
    "\n",
    "* Will ask user what minimum pipetting value they want to provide\n",
    "\n",
    "* After the user enters in all libraries and their respective information the script will calculate volume to input (uL) but if that volume is under the minimum pipetting value, will recalculate so proportionally input is greater than that minimum.\n",
    "\n",
    "* Will also provide instructions on barcoding directions depending on sequencer\n",
    "\n",
    "* Finally, will calculate dilutions or total volume to provide per sequencer requirements"
   ]
  },
  {
   "cell_type": "code",
   "execution_count": null,
   "metadata": {},
   "outputs": [],
   "source": []
  },
  {
   "cell_type": "code",
   "execution_count": 3,
   "metadata": {},
   "outputs": [],
   "source": [
    "import tkinter as tk\n",
    "import Bio as BP\n",
    "import pandas as pd\n",
    "import numpy as np\n",
    "import collections as col\n",
    "import os\n",
    "import csv\n",
    "import re\n",
    "import regex"
   ]
  },
  {
   "cell_type": "code",
   "execution_count": 21,
   "metadata": {
    "scrolled": true
   },
   "outputs": [],
   "source": [
    "'''Resource for tkinter GUI (graphical user interface)\n",
    "http://web.archive.org/web/20201111235321/https://effbot.org/tkinterbook/tkinter-hello-tkinter.htm\n",
    "'''\n",
    "def pick_sequencer():\n",
    "    \n",
    "    OPTIONS = [\n",
    "    \"NovaSeq S4 4 Lanes (8 billion clusters $30,780)\",\n",
    "    \"NovaSeq S4 3 Lanes (6 billion clusters $25,335)\",\n",
    "    \"NovaSeq S4 2 Lanes (4 billion clusters $16,890)\",\n",
    "    \"NovaSeq S4 1 Lane (2 billion clusters $8445)\",\n",
    "    \"NovaSeq S4 4 Lanes (8 billion clusters $30,780)\",\n",
    "    \"NovaSeq S4 3 Lanes (6 billion clusters $25,335)\",\n",
    "    \"NovaSeq S4 2 Lanes (4 billion clusters $16,890)\",\n",
    "    \"NovaSeq S4 1 Lane (2 billion clusters $8445)\",\n",
    "    \"NovaSeq S2 2 Lanes (3 billion clusters $10,575 - $16,700)\",\n",
    "    \"NovaSeq S2 1 Lane (1.5 billion clusters $6687 - $9750)\",\n",
    "    \"NovaSeq S2 2 Lanes (3 billion clusters $10,575 - $16,700)\",\n",
    "    \"NovaSeq S2 1 Lane (1.5 billion clusters $6687 - $9750)\",\n",
    "    \"NovaSeq SP (800 million clusters $2250 - $5500)\",\n",
    "    \"NextSeq 2000 P3 (1.1 billion clusters $2762 - $5100)\",\n",
    "    \"NextSeq 2000 P3 (1.1 billion clusters $2762 - $5100)\",\n",
    "    \"NextSeq High Output (400 million clusters $1525 - $4680)\",\n",
    "    \"NextSeq High Output (400 million clusters $1525 - $4680)\",\n",
    "    \"NextSeq High Output (400 million clusters $1525 - $4680)\",\n",
    "    \"NextSeq Mid Output (150 million clusters $1110 - $1790)\",\n",
    "    \"NextSeq Mid Output (150 million clusters $1110 - $1790)\",\n",
    "    \"MiSeq V3 (23 million clusters $930 - $1625)\",\n",
    "    \"MiSeq V3 (23 million clusters $930 - $1625)\",\n",
    "    \"MiSeq V2 (13 million clusters $840 - $1210)\",\n",
    "    \"MiSeq V2 (13 million clusters $840 - $1210)\",\n",
    "    \"MiSeq V2 (13 million clusters $840 - $1210)\",\n",
    "    \"MiSeq V2 Micro (4 million clusters $450)\",\n",
    "    \"MiSeq V2 Nano (1 million clusters $300 - $360)\",\n",
    "    \"MiSeq V2 Nano (1 million clusters $300 - $360)\",\n",
    "    \"iSeq (4 million clusters $625)\",\n",
    "    ] \n",
    "\n",
    "    Sequencer = tk.Tk()\n",
    "\n",
    "\n",
    "\n",
    "    #greeting = tk.Label(text=\"Pick your sequencer:\")\n",
    "    #label = tk.Label(text=\"Sequencer Options\")\n",
    "\n",
    "\n",
    "    variable = tk.StringVar(Sequencer)\n",
    "    variable.set(OPTIONS[0]) # default value\n",
    "\n",
    "    m = tk.Label(Sequencer, text=\"Please pick your sequencer!\")\n",
    "    w = tk.OptionMenu(Sequencer, variable, *OPTIONS)\n",
    "    m.pack()\n",
    "    w.pack()\n",
    "\n",
    "\n",
    "    def ok():\n",
    "        picked_sequencer = variable.get()\n",
    "        return (picked_sequencer)\n",
    "        \n",
    "    button = tk.Button(Sequencer, text=\"OK\", command=ok)\n",
    "    button.pack()\n",
    "    \n",
    "    Sequencer.mainloop()\n"
   ]
  },
  {
   "cell_type": "code",
   "execution_count": 22,
   "metadata": {},
   "outputs": [],
   "source": [
    "def main():\n",
    "    sequencer = pick_sequencer()\n",
    "    print (sequencer)\n",
    "    "
   ]
  },
  {
   "cell_type": "code",
   "execution_count": 23,
   "metadata": {
    "scrolled": true
   },
   "outputs": [
    {
     "ename": "NameError",
     "evalue": "name 'picked_sequencer' is not defined",
     "output_type": "error",
     "traceback": [
      "\u001b[0;31m---------------------------------------------------------------------------\u001b[0m",
      "\u001b[0;31mNameError\u001b[0m                                 Traceback (most recent call last)",
      "\u001b[0;32m<ipython-input-23-263240bbee7e>\u001b[0m in \u001b[0;36m<module>\u001b[0;34m\u001b[0m\n\u001b[0;32m----> 1\u001b[0;31m \u001b[0mmain\u001b[0m\u001b[0;34m(\u001b[0m\u001b[0;34m)\u001b[0m\u001b[0;34m\u001b[0m\u001b[0;34m\u001b[0m\u001b[0m\n\u001b[0m",
      "\u001b[0;32m<ipython-input-22-7862e5f46e6c>\u001b[0m in \u001b[0;36mmain\u001b[0;34m()\u001b[0m\n\u001b[1;32m      1\u001b[0m \u001b[0;32mdef\u001b[0m \u001b[0mmain\u001b[0m\u001b[0;34m(\u001b[0m\u001b[0;34m)\u001b[0m\u001b[0;34m:\u001b[0m\u001b[0;34m\u001b[0m\u001b[0;34m\u001b[0m\u001b[0m\n\u001b[0;32m----> 2\u001b[0;31m     \u001b[0msequencer\u001b[0m \u001b[0;34m=\u001b[0m \u001b[0mpick_sequencer\u001b[0m\u001b[0;34m(\u001b[0m\u001b[0;34m)\u001b[0m\u001b[0;34m\u001b[0m\u001b[0;34m\u001b[0m\u001b[0m\n\u001b[0m\u001b[1;32m      3\u001b[0m     \u001b[0mprint\u001b[0m \u001b[0;34m(\u001b[0m\u001b[0msequencer\u001b[0m\u001b[0;34m)\u001b[0m\u001b[0;34m\u001b[0m\u001b[0;34m\u001b[0m\u001b[0m\n\u001b[1;32m      4\u001b[0m \u001b[0;34m\u001b[0m\u001b[0m\n",
      "\u001b[0;32m<ipython-input-21-4d28ac94cbfe>\u001b[0m in \u001b[0;36mpick_sequencer\u001b[0;34m()\u001b[0m\n\u001b[1;32m     60\u001b[0m     \u001b[0mbutton\u001b[0m\u001b[0;34m.\u001b[0m\u001b[0mpack\u001b[0m\u001b[0;34m(\u001b[0m\u001b[0;34m)\u001b[0m\u001b[0;34m\u001b[0m\u001b[0;34m\u001b[0m\u001b[0m\n\u001b[1;32m     61\u001b[0m \u001b[0;34m\u001b[0m\u001b[0m\n\u001b[0;32m---> 62\u001b[0;31m     \u001b[0;32mreturn\u001b[0m \u001b[0mpicked_sequencer\u001b[0m\u001b[0;34m\u001b[0m\u001b[0;34m\u001b[0m\u001b[0m\n\u001b[0m\u001b[1;32m     63\u001b[0m \u001b[0;34m\u001b[0m\u001b[0m\n\u001b[1;32m     64\u001b[0m     \u001b[0mSequencer\u001b[0m\u001b[0;34m.\u001b[0m\u001b[0mmainloop\u001b[0m\u001b[0;34m(\u001b[0m\u001b[0;34m)\u001b[0m\u001b[0;34m\u001b[0m\u001b[0;34m\u001b[0m\u001b[0m\n",
      "\u001b[0;31mNameError\u001b[0m: name 'picked_sequencer' is not defined"
     ]
    }
   ],
   "source": [
    "main()"
   ]
  },
  {
   "cell_type": "code",
   "execution_count": null,
   "metadata": {
    "scrolled": true
   },
   "outputs": [],
   "source": [
    "'''def pick_sequencer():\n",
    "    sf = \"value is %s\" % var.get()\n",
    "    root.title(sf)\n",
    "    # optional\n",
    "    color = var.get()\n",
    "    root['bg'] = color\n",
    "\n",
    "\n",
    "root = tk.Tk()\n",
    "# use width x height + x_offset + y_offset (no spaces!)\n",
    "root.geometry(\"%dx%d+%d+%d\" % (330, 80, 200, 150))\n",
    "root.title(\"Pick Your Sequencer\")\n",
    "\n",
    "var = tk.StringVar(root)\n",
    "# initial value\n",
    "var.set('novseq')\n",
    "\n",
    "choices = ['novseq', 'nextseq', 'iseq']\n",
    "option = tk.OptionMenu(root, var, *choices)\n",
    "option.pack(side='left', padx=10, pady=10)\n",
    "\n",
    "button = tk.Button(root, text=\"check value selected\", command = select)\n",
    "#button.pack(side='left', padx=20, pady=10)\n",
    "\n",
    "root.mainloop()'''"
   ]
  }
 ],
 "metadata": {
  "kernelspec": {
   "display_name": "Python 3",
   "language": "python",
   "name": "python3"
  },
  "language_info": {
   "codemirror_mode": {
    "name": "ipython",
    "version": 3
   },
   "file_extension": ".py",
   "mimetype": "text/x-python",
   "name": "python",
   "nbconvert_exporter": "python",
   "pygments_lexer": "ipython3",
   "version": "3.8.5"
  }
 },
 "nbformat": 4,
 "nbformat_minor": 4
}
