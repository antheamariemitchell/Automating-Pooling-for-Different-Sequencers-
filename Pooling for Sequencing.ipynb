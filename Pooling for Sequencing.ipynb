{
 "cells": [
  {
   "cell_type": "markdown",
   "metadata": {},
   "source": [
    "## Pooling for Sequencing\n",
    "\n",
    "### Converting a confusing spreadsheet to an automated pooling protocol\n",
    "\n",
    "### Goals:\n",
    "\n",
    "*  Create a script that will calculate how to evenly or unevenly pool samples for different sequencers\n",
    "\n",
    "* Provide drop down menu of sequencer options for user to chose from (all have different total read capacities and loading requirements, so selection must then be linked to those details in some way -- library/dictionary/ect)\n",
    "\n",
    "* Give total concentration of that final library\n",
    "\n",
    "* Asks if user wants phix and what percentage, then calculate how many reads go to phix, and how many leftover for samples\n",
    "\n",
    "* Asks ask how many libraries going on\n",
    "\n",
    "* Asks for number of samples per library, number of reads per sample, ng/ul, % of library between 200-1000 base pair length, base pair length average\n",
    "\n",
    "* From input, will calculate MW, nmol/ul, nM, total number of reads needed, and proportion of the lib/total\n",
    "\n",
    "* Will ask user what minimum pipetting value they want to provide\n",
    "\n",
    "* After the user enters in all libraries and their respective information the script will calculate volume to input (uL) but if that volume is under the minimum pipetting value, will recalculate so proportionally input is greater than that minimum.\n",
    "\n",
    "* Will also provide instructions on barcoding directions depending on sequencer\n",
    "\n",
    "* Finally, will calculate dilutions or total volume to provide per sequencer requirements"
   ]
  },
  {
   "cell_type": "code",
   "execution_count": 10,
   "metadata": {},
   "outputs": [],
   "source": [
    "import tkinter as tk\n",
    "import Bio as BP\n",
    "import pandas as pd\n",
    "import numpy as np\n",
    "import collections as col\n",
    "import os\n",
    "import csv\n",
    "import re\n",
    "import regex"
   ]
  },
  {
   "cell_type": "code",
   "execution_count": 11,
   "metadata": {
    "scrolled": true
   },
   "outputs": [],
   "source": [
    "'''Resource for tkinter GUI (graphical user interface)\n",
    "http://web.archive.org/web/20201111235321/https://effbot.org/tkinterbook/tkinter-hello-tkinter.htm\n",
    "'''\n",
    "def pick_sequencer():\n",
    "    \n",
    "    OPTIONS = [\n",
    "    \"NovaSeq S4 4 Lanes (8 billion clusters $30,780)\",\n",
    "    \"NovaSeq S4 3 Lanes (6 billion clusters $25,335)\",\n",
    "    \"NovaSeq S4 2 Lanes (4 billion clusters $16,890)\",\n",
    "    \"NovaSeq S4 1 Lane (2 billion clusters $8445)\",\n",
    "    \"NovaSeq S4 4 Lanes (8 billion clusters $30,780)\",\n",
    "    \"NovaSeq S4 3 Lanes (6 billion clusters $25,335)\",\n",
    "    \"NovaSeq S4 2 Lanes (4 billion clusters $16,890)\",\n",
    "    \"NovaSeq S4 1 Lane (2 billion clusters $8445)\",\n",
    "    \"NovaSeq S2 2 Lanes (3 billion clusters $10,575 - $16,700)\",\n",
    "    \"NovaSeq S2 1 Lane (1.5 billion clusters $6687 - $9750)\",\n",
    "    \"NovaSeq S2 2 Lanes (3 billion clusters $10,575 - $16,700)\",\n",
    "    \"NovaSeq S2 1 Lane (1.5 billion clusters $6687 - $9750)\",\n",
    "    \"NovaSeq SP (800 million clusters $2250 - $5500)\",\n",
    "    \"NextSeq 2000 P3 (1.1 billion clusters $2762 - $5100)\",\n",
    "    \"NextSeq 2000 P3 (1.1 billion clusters $2762 - $5100)\",\n",
    "    \"NextSeq High Output (400 million clusters $1525 - $4680)\",\n",
    "    \"NextSeq High Output (400 million clusters $1525 - $4680)\",\n",
    "    \"NextSeq High Output (400 million clusters $1525 - $4680)\",\n",
    "    \"NextSeq Mid Output (150 million clusters $1110 - $1790)\",\n",
    "    \"NextSeq Mid Output (150 million clusters $1110 - $1790)\",\n",
    "    \"MiSeq V3 (23 million clusters $930 - $1625)\",\n",
    "    \"MiSeq V3 (23 million clusters $930 - $1625)\",\n",
    "    \"MiSeq V2 (13 million clusters $840 - $1210)\",\n",
    "    \"MiSeq V2 (13 million clusters $840 - $1210)\",\n",
    "    \"MiSeq V2 (13 million clusters $840 - $1210)\",\n",
    "    \"MiSeq V2 Micro (4 million clusters $450)\",\n",
    "    \"MiSeq V2 Nano (1 million clusters $300 - $360)\",\n",
    "    \"MiSeq V2 Nano (1 million clusters $300 - $360)\",\n",
    "    \"iSeq (4 million clusters $625)\",\n",
    "    ] \n",
    "\n",
    "    Sequencer = tk.Tk()\n",
    "\n",
    "    variable = tk.StringVar(Sequencer)\n",
    "    variable.set(OPTIONS[0]) # default value\n",
    "\n",
    "    m = tk.Label(Sequencer, text=\"Please pick your sequencer!\")\n",
    "    w = tk.OptionMenu(Sequencer, variable, *OPTIONS)\n",
    "    m.pack()\n",
    "    w.pack()\n",
    "\n",
    "\n",
    "    picked = []\n",
    "    Close = tk.Label(Sequencer, text=\"Great! Now please click the X to close.\")\n",
    "    \n",
    "    def ok():\n",
    "        stuff = variable.get()\n",
    "        picked.append(str(stuff))\n",
    "        Close.pack()\n",
    "        ### why isn't this returning? I know it's a scope issue, but I can't save output as \n",
    "        ###variable the way that I'm used to with that button command below :( \n",
    "        \n",
    "    button = tk.Button(Sequencer, text=\"Submit\", command=ok)\n",
    "    button.pack()\n",
    "\n",
    "\n",
    "    #def close():\n",
    "        #Sequencer.destroy()\n",
    "\n",
    "    #secondbutton = tk.Button(Sequencer, text =\"Close Window\", command=close)\n",
    "    #secondbutton.pack()    \n",
    "    #I never figured out why this doesn't work :( \n",
    "    \n",
    "    Sequencer.mainloop()\n",
    "    return picked[0]\n",
    "    \n",
    "   "
   ]
  },
  {
   "cell_type": "code",
   "execution_count": 12,
   "metadata": {},
   "outputs": [],
   "source": [
    "def sequencer_param(sequencer):\n",
    "    if sequencer == \"iSeq (4 million clusters $625)\":\n",
    "        volume_input_uL = 10 \n",
    "        concentration_nM = range(4, 20)     \n",
    "        \n",
    "    if \"MiSeq\" in sequencer:\n",
    "        volume_input_uL = 10 \n",
    "        concentration_nM = range(4, 20)   \n",
    "    if \"NextSeq\" in sequencer:\n",
    "        volume_input_uL = 10 \n",
    "        concentration_nM = range(4, 20)     \n",
    "        \n",
    "    if \"NovaSeq SP\" in sequencer:\n",
    "        volume_input_uL = 100 \n",
    "        concentration_nM = range(4, 10)  \n",
    "    \n",
    "    if \"NovaSeq S2\" in sequencer:\n",
    "        volume_input_uL = 200 \n",
    "        concentration_nM = range(4, 10)   \n",
    "    \n",
    "    if \"NovaSeq S4\" in sequencer:\n",
    "        volume_input_uL = 350 \n",
    "        concentration_nM = range(4, 10)  \n",
    "        \n",
    "    return volume_input_uL, concentration_nM"
   ]
  },
  {
   "cell_type": "code",
   "execution_count": 33,
   "metadata": {},
   "outputs": [],
   "source": [
    "def library_number_and_names():\n",
    "    lib_num = input(\"How many libraries are you sequencing? \")\n",
    "    lib_num = int(lib_num) \n",
    "    lib_names = {}\n",
    "    for i in range(lib_num):\n",
    "        question = \"What is the name of library number \" + str(i) + \"? \"\n",
    "        lib_names[i] = input(question)\n",
    "    return lib_num, lib_names\n",
    "\n",
    "### this needs to be a dictionary to prevent people using same name twice\n",
    "\n"
   ]
  },
  {
   "cell_type": "code",
   "execution_count": 34,
   "metadata": {},
   "outputs": [],
   "source": [
    "def samples_per_lib_and_reads_per_sample(lib_num, lib_names):\n",
    "    dictionary_of_libraries = {}\n",
    "    for name in lib_names:\n",
    "        input_text = \"How many samples in \" + str(name) + \"? \"\n",
    "        dictionary_of_libraries[name] = input(input_text)\n",
    "        \n",
    "        \n",
    "    return dictionary_of_libraries\n",
    "    \n",
    "    ### I think I've reached the need to understand\n",
    "    ### dictionaries better than I do \n",
    "    ### I want the library name to be key to number of samples maybe?\n",
    "    ### perhaps I will add the other metrics for that library as a list \n",
    "    ### that's attached to a key in a dictionary? or should I use df???\n",
    "        \n"
   ]
  },
  {
   "cell_type": "code",
   "execution_count": 35,
   "metadata": {},
   "outputs": [],
   "source": [
    "def main():\n",
    "    print(\"Hello user! This script will help you pool your libraries for sequencing. Just follow the instructions on the screen.\")\n",
    "    sequencer = pick_sequencer()\n",
    "    volume_input_uL, concentration_nM = sequencer_param(sequencer)\n",
    "    lib_num, lib_names = library_number_and_names()\n",
    "    dictionary_of_libraries = samples_per_lib_and_reads_per_sample(lib_num, lib_names)\n",
    "    \n",
    "\n",
    "    print(sequencer, volume_input_uL, concentration_nM, lib_num, lib_names, dictionary_of_libraries)"
   ]
  },
  {
   "cell_type": "code",
   "execution_count": 36,
   "metadata": {},
   "outputs": [
    {
     "name": "stdout",
     "output_type": "stream",
     "text": [
      "Hello user! This script will help you pool your libraries for sequencing. Just follow the instructions on the screen.\n",
      "How many libraries are you sequencing? 5\n",
      "What is the name of library number 0? bob\n",
      "What is the name of library number 1? joe\n",
      "What is the name of library number 2? joe\n",
      "What is the name of library number 3? joe\n",
      "What is the name of library number 4? joe\n",
      "How many samples in 0? 3\n",
      "How many samples in 1? 4\n",
      "How many samples in 2? 5\n",
      "How many samples in 3? 3\n",
      "How many samples in 4? 1\n",
      "NovaSeq S4 4 Lanes (8 billion clusters $30,780) 350 range(4, 10) 5 {0: 'bob', 1: 'joe', 2: 'joe', 3: 'joe', 4: 'joe'} {0: '3', 1: '4', 2: '5', 3: '3', 4: '1'}\n"
     ]
    }
   ],
   "source": [
    "main()"
   ]
  },
  {
   "cell_type": "code",
   "execution_count": null,
   "metadata": {
    "collapsed": true
   },
   "outputs": [],
   "source": []
  },
  {
   "cell_type": "code",
   "execution_count": null,
   "metadata": {},
   "outputs": [],
   "source": []
  },
  {
   "cell_type": "code",
   "execution_count": null,
   "metadata": {
    "collapsed": true
   },
   "outputs": [],
   "source": []
  },
  {
   "cell_type": "code",
   "execution_count": null,
   "metadata": {},
   "outputs": [],
   "source": []
  },
  {
   "cell_type": "code",
   "execution_count": null,
   "metadata": {},
   "outputs": [],
   "source": []
  }
 ],
 "metadata": {
  "kernelspec": {
   "display_name": "Python 3",
   "language": "python",
   "name": "python3"
  },
  "language_info": {
   "codemirror_mode": {
    "name": "ipython",
    "version": 3
   },
   "file_extension": ".py",
   "mimetype": "text/x-python",
   "name": "python",
   "nbconvert_exporter": "python",
   "pygments_lexer": "ipython3",
   "version": "3.8.5"
  }
 },
 "nbformat": 4,
 "nbformat_minor": 4
}
